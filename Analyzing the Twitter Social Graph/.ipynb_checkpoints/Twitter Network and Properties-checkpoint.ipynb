{
 "cells": [
  {
   "cell_type": "markdown",
   "metadata": {
    "deletable": true,
    "editable": true
   },
   "source": [
    "# Mining & Analyzing a Twitter Network\n"
   ]
  },
  {
   "cell_type": "markdown",
   "metadata": {
    "deletable": true,
    "editable": true
   },
   "source": [
    "# Objective \n",
    "Creating a real network using data collected from the Internet and then to invetsigating to discover some properties of the collected network. "
   ]
  },
  {
   "cell_type": "markdown",
   "metadata": {
    "deletable": true,
    "editable": true
   },
   "source": [
    "# API \n",
    "\n",
    "I've used the following API and docs\n",
    "\n",
    "* [Twitter REST API](https://dev.twitter.com/rest/public)\n",
    "* [Tweepy Documentation](http://tweepy.readthedocs.io/en/v3.5.0/)\n",
    "* [Tutorial \"Mining Twitter data with Python\"](https://marcobonzanini.com/2015/03/02/mining-twitter-data-with-python-part-1/)"
   ]
  },
  {
   "cell_type": "markdown",
   "metadata": {
    "deletable": true,
    "editable": true
   },
   "source": [
    "# 1. Collecting The Twitter Network"
   ]
  },
  {
   "cell_type": "markdown",
   "metadata": {
    "deletable": true,
    "editable": true
   },
   "source": [
    "- Registered a [client application with Twitter](https://apps.twitter.com/).\n",
    "- Credentials stored in `credentials.ini` file as follows:\n",
    "```\n",
    "[twitter]\n",
    "consumer_key = YOUR-CONSUMER-KEY\n",
    "consumer_secret = YOUR-CONSUMER-SECRET\n",
    "access_token = YOUR-ACCESS-TOKEN\n",
    "access_secret = YOUR-ACCESS-SECRET\n",
    "```\n",
    "Not published for security concerns."
   ]
  },
  {
   "cell_type": "code",
   "execution_count": 1,
   "metadata": {
    "collapsed": false,
    "deletable": true,
    "editable": true
   },
   "outputs": [],
   "source": [
    "%matplotlib inline\n",
    "\n",
    "import random\n",
    "import configparser\n",
    "import matplotlib.pyplot as plt\n",
    "import numpy as np\n",
    "from pprint import pprint\n",
    "import tweepy  # you will need to install tweepy first"
   ]
  },
  {
   "cell_type": "code",
   "execution_count": 2,
   "metadata": {
    "collapsed": false,
    "deletable": true,
    "editable": true
   },
   "outputs": [],
   "source": [
    "# Read the confidential token.\n",
    "credentials = configparser.ConfigParser()\n",
    "credentials.read('credentials.ini')\n",
    "\n",
    "#authentication\n",
    "auth = tweepy.OAuthHandler(credentials.get('twitter', 'consumer_key'), credentials.get('twitter', 'consumer_secret'))\n",
    "auth.set_access_token(credentials.get('twitter', 'access_token'), credentials.get('twitter', 'access_secret'))\n",
    "\n",
    "#construct API instance\n",
    "#deal with rate limits and notify when delayed because of rate limits\n",
    "api = tweepy.API(auth,wait_on_rate_limit=True, wait_on_rate_limit_notify=True)"
   ]
  },
  {
   "cell_type": "markdown",
   "metadata": {
    "deletable": true,
    "editable": true
   },
   "source": [
    "# Collecting data from Twitter! "
   ]
  },
  {
   "cell_type": "markdown",
   "metadata": {
    "deletable": true,
    "editable": true
   },
   "source": [
    "I construct the network with the using following structure:\n",
    "\n",
    "- Choosing a `user_id` in Twitter to be our first node. \n",
    "\n",
    "- Finding (some) of the users who are both following `user_id` and are being followed by user_id (i.e. friends of uder_id). These are my first_nodes.\n",
    "\n",
    "- For every node in the list `first_nodes` finding (some) of the users who are following and are being followed by this node (aka the connections of this node). These are the `second_nodes`.\n",
    "\n",
    "- The collection of the ids of all nodes (aka Twitter users) that we have collected so far will be placed in a list called `all_nodes`.\n",
    "\n",
    "- Since, I have only collected a subset of all possible \"connections\" for our nodes, I am checking if there are any remaining inner connections that are have missed.\n",
    "\n",
    "The entire network is organized in a dictionary with entries that will have as key the Twitter id of the user (this is a number characterizing each user in Twitter) and as value the list of ids of his connections.\n",
    "\n",
    "I have chosen the Twitter account of [Applied Machine Learning Days](https://www.appliedmldays.org) that will take place in January 2018 in EPFL. "
   ]
  },
  {
   "cell_type": "code",
   "execution_count": 3,
   "metadata": {
    "collapsed": false,
    "deletable": true,
    "editable": true
   },
   "outputs": [
    {
     "data": {
      "text/plain": [
       "763052115392593920"
      ]
     },
     "execution_count": 3,
     "metadata": {},
     "output_type": "execute_result"
    }
   ],
   "source": [
    "user = 'appliedmldays '\n",
    "user_id=api.get_user(user).id\n",
    "user_id"
   ]
  },
  {
   "cell_type": "markdown",
   "metadata": {
    "deletable": true,
    "editable": true
   },
   "source": [
    "Returns a list with the **ids** of the passed user_id connections. \n",
    "Taking into account the case where a user is 'protected'\n"
   ]
  },
  {
   "cell_type": "code",
   "execution_count": 4,
   "metadata": {
    "collapsed": false,
    "deletable": true,
    "editable": true
   },
   "outputs": [],
   "source": [
    "def find_connections(user_id):\n",
    "    if(api.get_user(user_id).protected == True): #Return an empty list if user is protected\n",
    "        print('Protected node ',user_id)\n",
    "        return []\n",
    "    #followers = api.followers_ids(user_id)\n",
    "    followers = []\n",
    "    friends = []\n",
    "    for page in tweepy.Cursor(api.followers_ids, id=user_id).pages(5): #limiting to 5\n",
    "        followers.extend(page)\n",
    "    for page in tweepy.Cursor(api.friends_ids, id=user_id).pages(5): #limiting to 5\n",
    "        friends.extend(page)\n",
    "    #friends= api.friends_ids(user_id)\n",
    "    connections = set(followers).intersection(set(friends)) \n",
    "    if(list(connections) == 0):  #The case where there are no followers. Not found in my trial. \n",
    "        print('NULL NODE! ',user_id)\n",
    "        return []\n",
    "    return list(connections)\n"
   ]
  },
  {
   "cell_type": "code",
   "execution_count": 5,
   "metadata": {
    "collapsed": false
   },
   "outputs": [
    {
     "name": "stdout",
     "output_type": "stream",
     "text": [
      "Rate limit reached. Sleeping for: 46\n",
      "appliedmldays  has 139 connections\n"
     ]
    }
   ],
   "source": [
    "first_connections=find_connections(user_id)\n",
    "print('{} has {} connections'.format(user, len(first_connections)))"
   ]
  },
  {
   "cell_type": "markdown",
   "metadata": {
    "deletable": true,
    "editable": true
   },
   "source": [
    "Collecting `first_nodes` and `second_nodes` and organizing their connections in the dictionary called `network`."
   ]
  },
  {
   "cell_type": "code",
   "execution_count": 7,
   "metadata": {
    "collapsed": false,
    "deletable": true,
    "editable": true,
    "scrolled": true
   },
   "outputs": [
    {
     "name": "stdout",
     "output_type": "stream",
     "text": [
      "Processing the potential first user  140856473\n",
      "Processing the potential first user  19269506\n",
      "Processing the potential first user  85425543\n",
      "Processing the potential first user  83657910\n",
      "Processing the potential first user  1275985766\n",
      "Processing the potential first user  636864273\n",
      "Processing the potential first user  54164492\n",
      "Processing the potential first user  272924750\n",
      "Processing the potential first user  840295508899950592\n",
      "Processing the potential first user  850645992\n",
      "Processing the potential first user  123969580\n",
      "Completed First nodes\n",
      "Adding second users for the first user 140856473\n",
      "Added number of second nodes for the ongoing firstuser 0\n",
      "Added number of second nodes for the ongoing firstuser 1\n",
      "Added number of second nodes for the ongoing firstuser 2\n",
      "Added number of second nodes for the ongoing firstuser 3\n",
      "Added number of second nodes for the ongoing firstuser 4\n",
      "Rate limit reached. Sleeping for: 886\n",
      "Added number of second nodes for the ongoing firstuser 5\n",
      "Added number of second nodes for the ongoing firstuser 6\n",
      "Added number of second nodes for the ongoing firstuser 7\n",
      "Added number of second nodes for the ongoing firstuser 8\n",
      "Added number of second nodes for the ongoing firstuser 9\n",
      "Added number of second nodes for the ongoing firstuser 10\n",
      "Adding second users for the first user 19269506\n",
      "Added number of second nodes for the ongoing firstuser 0\n",
      "Added number of second nodes for the ongoing firstuser 1\n",
      "Added number of second nodes for the ongoing firstuser 2\n",
      "Added number of second nodes for the ongoing firstuser 3\n",
      "Rate limit reached. Sleeping for: 889\n",
      "Added number of second nodes for the ongoing firstuser 4\n",
      "Protected node  69510684\n",
      "Added number of second nodes for the ongoing firstuser 4\n",
      "Added number of second nodes for the ongoing firstuser 5\n",
      "Added number of second nodes for the ongoing firstuser 6\n",
      "Added number of second nodes for the ongoing firstuser 7\n",
      "Added number of second nodes for the ongoing firstuser 8\n",
      "Added number of second nodes for the ongoing firstuser 9\n",
      "Added number of second nodes for the ongoing firstuser 10\n",
      "Adding second users for the first user 85425543\n",
      "Added number of second nodes for the ongoing firstuser 0\n",
      "Added number of second nodes for the ongoing firstuser 1\n",
      "Protected node  90120625\n",
      "Added number of second nodes for the ongoing firstuser 1\n",
      "Added number of second nodes for the ongoing firstuser 2\n",
      "Added number of second nodes for the ongoing firstuser 3\n",
      "Added number of second nodes for the ongoing firstuser 4\n",
      "Added number of second nodes for the ongoing firstuser 5\n",
      "Added number of second nodes for the ongoing firstuser 6\n",
      "Rate limit reached. Sleeping for: 886\n",
      "Added number of second nodes for the ongoing firstuser 7\n",
      "Added number of second nodes for the ongoing firstuser 8\n",
      "Protected node  241239356\n",
      "Added number of second nodes for the ongoing firstuser 8\n",
      "Added number of second nodes for the ongoing firstuser 9\n",
      "Added number of second nodes for the ongoing firstuser 10\n",
      "Adding second users for the first user 83657910\n",
      "Added number of second nodes for the ongoing firstuser 0\n",
      "Added number of second nodes for the ongoing firstuser 1\n",
      "Added number of second nodes for the ongoing firstuser 2\n",
      "Added number of second nodes for the ongoing firstuser 3\n",
      "Added number of second nodes for the ongoing firstuser 4\n",
      "Added number of second nodes for the ongoing firstuser 5\n",
      "Added number of second nodes for the ongoing firstuser 6\n",
      "Rate limit reached. Sleeping for: 888\n",
      "Added number of second nodes for the ongoing firstuser 7\n",
      "Added number of second nodes for the ongoing firstuser 8\n",
      "Added number of second nodes for the ongoing firstuser 9\n",
      "Added number of second nodes for the ongoing firstuser 10\n",
      "Adding second users for the first user 1275985766\n",
      "Added number of second nodes for the ongoing firstuser 0\n",
      "Added number of second nodes for the ongoing firstuser 1\n",
      "Added number of second nodes for the ongoing firstuser 2\n",
      "Added number of second nodes for the ongoing firstuser 3\n",
      "Added number of second nodes for the ongoing firstuser 4\n",
      "Added number of second nodes for the ongoing firstuser 5\n",
      "Rate limit reached. Sleeping for: 888\n",
      "Added number of second nodes for the ongoing firstuser 6\n",
      "Added number of second nodes for the ongoing firstuser 7\n",
      "Added number of second nodes for the ongoing firstuser 8\n",
      "Added number of second nodes for the ongoing firstuser 9\n",
      "Added number of second nodes for the ongoing firstuser 10\n",
      "Adding second users for the first user 636864273\n",
      "Added number of second nodes for the ongoing firstuser 0\n",
      "Added number of second nodes for the ongoing firstuser 0\n",
      "Added number of second nodes for the ongoing firstuser 1\n",
      "Added number of second nodes for the ongoing firstuser 2\n",
      "Added number of second nodes for the ongoing firstuser 3\n",
      "Added number of second nodes for the ongoing firstuser 4\n",
      "Added number of second nodes for the ongoing firstuser 5\n",
      "Rate limit reached. Sleeping for: 888\n",
      "Added number of second nodes for the ongoing firstuser 6\n",
      "Added number of second nodes for the ongoing firstuser 7\n",
      "Added number of second nodes for the ongoing firstuser 8\n",
      "Added number of second nodes for the ongoing firstuser 9\n",
      "Added number of second nodes for the ongoing firstuser 10\n",
      "Adding second users for the first user 54164492\n",
      "Added number of second nodes for the ongoing firstuser 0\n",
      "Added number of second nodes for the ongoing firstuser 1\n",
      "Added number of second nodes for the ongoing firstuser 2\n",
      "Added number of second nodes for the ongoing firstuser 3\n",
      "Added number of second nodes for the ongoing firstuser 4\n",
      "Added number of second nodes for the ongoing firstuser 5\n",
      "Rate limit reached. Sleeping for: 889\n",
      "Added number of second nodes for the ongoing firstuser 6\n",
      "Added number of second nodes for the ongoing firstuser 7\n",
      "Added number of second nodes for the ongoing firstuser 8\n",
      "Added number of second nodes for the ongoing firstuser 9\n",
      "Added number of second nodes for the ongoing firstuser 10\n",
      "Adding second users for the first user 272924750\n",
      "Added number of second nodes for the ongoing firstuser 0\n",
      "Added number of second nodes for the ongoing firstuser 1\n",
      "Added number of second nodes for the ongoing firstuser 2\n",
      "Added number of second nodes for the ongoing firstuser 3\n",
      "Added number of second nodes for the ongoing firstuser 4\n",
      "Added number of second nodes for the ongoing firstuser 5\n",
      "Added number of second nodes for the ongoing firstuser 6\n",
      "Rate limit reached. Sleeping for: 886\n",
      "Added number of second nodes for the ongoing firstuser 7\n",
      "Added number of second nodes for the ongoing firstuser 8\n",
      "Added number of second nodes for the ongoing firstuser 9\n",
      "Added number of second nodes for the ongoing firstuser 10\n",
      "Adding second users for the first user 840295508899950592\n",
      "Added number of second nodes for the ongoing firstuser 0\n",
      "Added number of second nodes for the ongoing firstuser 0\n",
      "Added number of second nodes for the ongoing firstuser 1\n",
      "Adding second users for the first user 850645992\n",
      "Added number of second nodes for the ongoing firstuser 0\n",
      "Added number of second nodes for the ongoing firstuser 1\n",
      "Added number of second nodes for the ongoing firstuser 2\n",
      "Added number of second nodes for the ongoing firstuser 3\n",
      "Added number of second nodes for the ongoing firstuser 4\n",
      "Added number of second nodes for the ongoing firstuser 5\n",
      "Added number of second nodes for the ongoing firstuser 6\n",
      "Added number of second nodes for the ongoing firstuser 7\n",
      "Rate limit reached. Sleeping for: 887\n",
      "Added number of second nodes for the ongoing firstuser 8\n",
      "Added number of second nodes for the ongoing firstuser 9\n",
      "Added number of second nodes for the ongoing firstuser 10\n"
     ]
    }
   ],
   "source": [
    "network={}\n",
    "tosaverequests = {user_id : find_connections(user_id)} #tosaverequests is a dictionary DB for API calls.\n",
    "chosen = 0 #Keeping track of the number of added nodes.\n",
    "how_many=10#This is the number of connections you are sampling. \n",
    "          #Keep small (e.g.3) for development, larger later (e.g. 10)\n",
    "second_nodes=[]\n",
    "neighbors = []\n",
    "random.shuffle(tosaverequests[user_id]) #Shuflling randomly once and then taking the top how_many is same as using random.sample\n",
    "for firstuser in tosaverequests[user_id]: #For adding first nodes.\n",
    "    print('Processing the potential first user ',firstuser) #To keep track of the process\n",
    "    if(chosen >= how_many):   #In case the number of connections is more then what we need.\n",
    "        break\n",
    "    temp = find_connections(firstuser)\n",
    "    if(len(temp) > 0): #Only add if not null or protected.\n",
    "        chosen += 1 \n",
    "        tosaverequests[firstuser] = temp    #Adding API call to DB\n",
    "        neighbors.append(firstuser)     #the neigbors is the list of chosen firstusers\n",
    "print('Completed First nodes')\n",
    "first_nodes = neighbors\n",
    "network[user_id] = neighbors   #Adding root node to the network\n",
    "\n",
    "for user in first_nodes:   #Adding second nodes for each node in first node.\n",
    "    print('Adding second users for the first user', user)\n",
    "    random.shuffle(tosaverequests[user]) #This makes sure the chosen nodes are random\n",
    "    chosen = 0 #Keeping track of total chosen for each first node\n",
    "    neighbors = []\n",
    "    for secuser in tosaverequests[user]: #choosing the nodes that are not protected or have 0 connections.\n",
    "        print('Added number of second nodes for the ongoing firstuser', chosen)\n",
    "        if(chosen >= how_many): #In case, number of connections is more than how many\n",
    "            break \n",
    "        if secuser in tosaverequests.keys(): #Saving the API Call if already seen. Fetch from DB\n",
    "            second_nodes.append(secuser)\n",
    "            neighbors.append(secuser)\n",
    "        else:\n",
    "            temp = find_connections(secuser) #Get the connections.\n",
    "            if(len(temp) > 0):\n",
    "                chosen += 1 \n",
    "                second_nodes.append(secuser) #append the chosen node.\n",
    "                tosaverequests[secuser] = temp #Adding to DB only is not protected/or 0 connections. \n",
    "                neighbors.append(secuser)\n",
    "    network[user] = neighbors #Add the chosen nodes to the network.\n",
    "\n",
    "second_nodes = list(set(second_nodes).difference(set(first_nodes).union({user_id}))) #To remove the duplicate nodes and first nodes in second_nodes\n"
   ]
  },
  {
   "cell_type": "code",
   "execution_count": 10,
   "metadata": {
    "collapsed": false
   },
   "outputs": [
    {
     "name": "stdout",
     "output_type": "stream",
     "text": [
      "{19269506: [57859591,\n",
      "            162228597,\n",
      "            632003260,\n",
      "            171511959,\n",
      "            167747185,\n",
      "            867412497086787585,\n",
      "            2751481575,\n",
      "            297121735,\n",
      "            14059304,\n",
      "            135488979],\n",
      " 54164492: [2248163412,\n",
      "            14813790,\n",
      "            313347757,\n",
      "            310809326,\n",
      "            15197597,\n",
      "            2737225663,\n",
      "            140975570,\n",
      "            226108703,\n",
      "            69810474,\n",
      "            1876193864],\n",
      " 83657910: [2811494825,\n",
      "            3180164538,\n",
      "            15455122,\n",
      "            293437768,\n",
      "            101051403,\n",
      "            9517462,\n",
      "            14375294,\n",
      "            2332107884,\n",
      "            14541608,\n",
      "            22477880],\n",
      " 85425543: [704567443314839552,\n",
      "            128663787,\n",
      "            85783864,\n",
      "            822463136745869316,\n",
      "            4469439315,\n",
      "            21320370,\n",
      "            272945802,\n",
      "            2304650466,\n",
      "            269922371,\n",
      "            14105423],\n",
      " 140856473: [330391433,\n",
      "             733238893,\n",
      "             253764020,\n",
      "             552983932,\n",
      "             300406234,\n",
      "             1182533797,\n",
      "             167943459,\n",
      "             1853880823,\n",
      "             53757449,\n",
      "             272334758],\n",
      " 272924750: [763368160527544320,\n",
      "             32991166,\n",
      "             65148101,\n",
      "             799954558227193856,\n",
      "             2983466945,\n",
      "             12825292,\n",
      "             90950020,\n",
      "             4814841321,\n",
      "             774044749,\n",
      "             721222618217639936],\n",
      " 636864273: [763052115392593920,\n",
      "             804271729,\n",
      "             1251697254,\n",
      "             103004948,\n",
      "             260656385,\n",
      "             532115122,\n",
      "             357689527,\n",
      "             157657348,\n",
      "             163961205,\n",
      "             1394904265,\n",
      "             224181906],\n",
      " 850645992: [43918390,\n",
      "             326034810,\n",
      "             2281437368,\n",
      "             2364838604,\n",
      "             614322683,\n",
      "             379659001,\n",
      "             67591743,\n",
      "             17425484,\n",
      "             794228761663336452,\n",
      "             40052548],\n",
      " 1275985766: [736582402672197633,\n",
      "              47859306,\n",
      "              717368511350198272,\n",
      "              339473364,\n",
      "              163464905,\n",
      "              26561711,\n",
      "              809274300033155072,\n",
      "              2763207526,\n",
      "              45381821,\n",
      "              3282814315],\n",
      " 763052115392593920: [140856473,\n",
      "                      19269506,\n",
      "                      85425543,\n",
      "                      83657910,\n",
      "                      1275985766,\n",
      "                      636864273,\n",
      "                      54164492,\n",
      "                      272924750,\n",
      "                      840295508899950592,\n",
      "                      850645992],\n",
      " 840295508899950592: [763052115392593920, 1106304776, 887580218331983872]}\n"
     ]
    }
   ],
   "source": [
    "pprint(network)"
   ]
  },
  {
   "cell_type": "markdown",
   "metadata": {},
   "source": [
    "# To save repeating the work in case something goes wrong. Pickle!\n",
    "\n",
    "import pickle <br>\n",
    "pickle.dump(network , open( \"netfor10.p\", \"wb\" ))  <br> \n",
    "pickle.dump(tosaverequests , open(\"apicallsfor10.p\",\"wb\")) "
   ]
  },
  {
   "cell_type": "code",
   "execution_count": 11,
   "metadata": {
    "collapsed": true,
    "deletable": true,
    "editable": true
   },
   "outputs": [],
   "source": [
    "all_nodes= first_nodes + second_nodes + [user_id]"
   ]
  },
  {
   "cell_type": "code",
   "execution_count": 12,
   "metadata": {
    "collapsed": false,
    "deletable": true,
    "editable": true
   },
   "outputs": [
    {
     "name": "stdout",
     "output_type": "stream",
     "text": [
      "There are 10 first hop nodes\n",
      "There are 92 second hop nodes\n",
      "There are overall 103 nodes in the collected network\n"
     ]
    }
   ],
   "source": [
    "print('There are {} first hop nodes'.format(len(first_nodes)))\n",
    "print('There are {} second hop nodes'.format(len(second_nodes)))\n",
    "print('There are overall {} nodes in the collected network'.format(len(all_nodes)))"
   ]
  },
  {
   "cell_type": "code",
   "execution_count": 13,
   "metadata": {
    "collapsed": true,
    "deletable": true,
    "editable": true
   },
   "outputs": [],
   "source": [
    "for i in second_nodes:\n",
    "    network[i]=[]"
   ]
  },
  {
   "cell_type": "markdown",
   "metadata": {
    "deletable": true,
    "editable": true
   },
   "source": [
    "Finding the inner connections between the collected nodes that might have been missed because of sampling the connections."
   ]
  },
  {
   "cell_type": "code",
   "execution_count": 14,
   "metadata": {
    "collapsed": true,
    "deletable": true,
    "editable": true
   },
   "outputs": [],
   "source": [
    "for user_id in all_nodes:\n",
    "    network[user_id].extend([node for node in all_nodes if node in tosaverequests[user_id]]) #Adding all nodes that are connected to user_d and are in the gaph\n",
    "    network[user_id] = list(set(network[user_id]))    #Removes duplicates"
   ]
  },
  {
   "cell_type": "markdown",
   "metadata": {
    "deletable": true,
    "editable": true
   },
   "source": [
    "# 2. Investigating some of the properties of the collected network"
   ]
  },
  {
   "cell_type": "markdown",
   "metadata": {
    "deletable": true,
    "editable": true
   },
   "source": [
    "## 2.1 Adjacency matrix"
   ]
  },
  {
   "cell_type": "markdown",
   "metadata": {
    "deletable": true,
    "editable": true
   },
   "source": [
    "Transforming dictionary into the adjacency (or weight) matrix. "
   ]
  },
  {
   "cell_type": "code",
   "execution_count": 15,
   "metadata": {
    "collapsed": true,
    "deletable": true,
    "editable": true
   },
   "outputs": [],
   "source": [
    "W=np.zeros([len(all_nodes),len(all_nodes)], dtype=int)"
   ]
  },
  {
   "cell_type": "code",
   "execution_count": 17,
   "metadata": {
    "collapsed": true,
    "deletable": true,
    "editable": true
   },
   "outputs": [],
   "source": [
    "for i,node in enumerate(all_nodes):\n",
    "    W[i,:] = [int(node1 in network[node]) for node1 in all_nodes]"
   ]
  },
  {
   "cell_type": "markdown",
   "metadata": {
    "deletable": true,
    "editable": true
   },
   "source": [
    "Usuaally, the weight matrix should be symmetric. But here, it is not because of the following reason:\n",
    "\n",
    "For the number of API calls to be manageable and code to run in reasonable time, I had limit the number of page requests by tweepy cursor to 5 for request of each followers and friends. Due, to this it is possible that a user $i$ (already in the network) is a connection to user $j$ and hence added user $j$ to the network but user j is a hub and consequently, the api calls got limited and I did not retrieve the complete list of connections for user $j$. Now, while preaparing the $W$ adjacency matrix, I would add a $1$ at $W(i,j)$ but $0$ at $W(j,i)$ because $W(j,i)$ is put looking only at the stored connections of user j. Thus, due to limiting the number of requests $W$ might end up being asymmetric. However, this can be taken care of, as is done in the following snippets.\n",
    "\n",
    "However, the following situation cannot be rectified due to no information on either position $(i,j)$ or $(j,i)$. Suppose, $i$ and $j$ are both second_nodes and for both the max. number of pages was reached and neithe of them gets added to other's list of connections.Consequently, both $W(i,j)$ and $W(j,i)$ would end up being $0$ which cannot be corrected without additional API calls."
   ]
  },
  {
   "cell_type": "code",
   "execution_count": 19,
   "metadata": {
    "collapsed": false,
    "deletable": true,
    "editable": true
   },
   "outputs": [
    {
     "data": {
      "text/plain": [
       "(array([ 1,  3,  7,  9, 16, 17, 32, 37, 37, 37, 37, 37, 37, 38, 42, 52, 56,\n",
       "        56, 57, 57, 57, 57, 57, 57, 58, 65, 77, 80, 81, 88], dtype=int64),\n",
       " array([52, 56, 57, 37, 57, 57, 37,  9, 32, 42, 77, 80, 88, 57, 37,  1,  3,\n",
       "        65,  7, 16, 17, 38, 58, 81, 57, 56, 37, 37, 57, 37], dtype=int64))"
      ]
     },
     "execution_count": 19,
     "metadata": {},
     "output_type": "execute_result"
    }
   ],
   "source": [
    "np.nonzero(W-W.transpose())"
   ]
  },
  {
   "cell_type": "code",
   "execution_count": 20,
   "metadata": {
    "collapsed": true,
    "deletable": true,
    "editable": true
   },
   "outputs": [],
   "source": [
    "# Make W is symmetric\n",
    "bigger = W.transpose() > W"
   ]
  },
  {
   "cell_type": "code",
   "execution_count": 21,
   "metadata": {
    "collapsed": true,
    "deletable": true,
    "editable": true
   },
   "outputs": [],
   "source": [
    "W = W - W*bigger + W.transpose()*bigger"
   ]
  },
  {
   "cell_type": "markdown",
   "metadata": {
    "deletable": true,
    "editable": true
   },
   "source": [
    "Plotting the weight matrix of your collected network.\n"
   ]
  },
  {
   "cell_type": "code",
   "execution_count": 22,
   "metadata": {
    "collapsed": false,
    "deletable": true,
    "editable": true
   },
   "outputs": [
    {
     "data": {
      "text/plain": [
       "<matplotlib.text.Text at 0x6731e458d0>"
      ]
     },
     "execution_count": 22,
     "metadata": {},
     "output_type": "execute_result"
    },
    {
     "data": {
      "image/png": "[encoded data removed]",
      "text/plain": [
       "<matplotlib.figure.Figure at 0x672f8ceb00>"
      ]
     },
     "metadata": {},
     "output_type": "display_data"
    }
   ],
   "source": [
    "# your code here\n",
    "plt.spy(W)\n",
    "plt.title('Adjacency Matrix W')"
   ]
  },
  {
   "cell_type": "code",
   "execution_count": 23,
   "metadata": {
    "collapsed": false
   },
   "outputs": [
    {
     "name": "stdout",
     "output_type": "stream",
     "text": [
      "Number of links here:  140.0\n",
      "Maximum number of links:  6105.0\n"
     ]
    }
   ],
   "source": [
    "print('Number of links here: ',sum(sum(W != 0))/2)\n",
    "print('Maximum number of links: ',((how_many**2 + how_many+1)*(how_many**2 + how_many))/2)"
   ]
  },
  {
   "cell_type": "markdown",
   "metadata": {
    "deletable": true,
    "editable": true
   },
   "source": [
    "## 2.2 Degrees distribution"
   ]
  },
  {
   "cell_type": "code",
   "execution_count": 30,
   "metadata": {
    "collapsed": true,
    "deletable": true,
    "editable": true
   },
   "outputs": [],
   "source": [
    "p = np.sum(W, axis = 0)"
   ]
  },
  {
   "cell_type": "code",
   "execution_count": 31,
   "metadata": {
    "collapsed": false,
    "deletable": true,
    "editable": true
   },
   "outputs": [
    {
     "data": {
      "image/png": "[encoded data removed]",
      "text/plain": [
       "<matplotlib.figure.Figure at 0x67321b6470>"
      ]
     },
     "metadata": {},
     "output_type": "display_data"
    }
   ],
   "source": [
    "plt.hist(p);"
   ]
  },
  {
   "cell_type": "markdown",
   "metadata": {
    "deletable": true,
    "editable": true
   },
   "source": [
    "## 2.3 Average degree"
   ]
  },
  {
   "cell_type": "code",
   "execution_count": 34,
   "metadata": {
    "collapsed": false,
    "deletable": true,
    "editable": true
   },
   "outputs": [
    {
     "data": {
      "text/plain": [
       "2.7184466019417477"
      ]
     },
     "execution_count": 34,
     "metadata": {},
     "output_type": "execute_result"
    }
   ],
   "source": [
    "d_avg = np.mean(p)\n",
    "d_avg"
   ]
  },
  {
   "cell_type": "markdown",
   "metadata": {
    "deletable": true,
    "editable": true
   },
   "source": [
    "## 2.4 Pruning the collected network"
   ]
  },
  {
   "cell_type": "markdown",
   "metadata": {
    "deletable": true,
    "editable": true
   },
   "source": [
    "Pruning the collected network keeping only the nodes that have a degree that is greater than the average degree."
   ]
  },
  {
   "cell_type": "code",
   "execution_count": 32,
   "metadata": {
    "collapsed": false,
    "deletable": true,
    "editable": true
   },
   "outputs": [],
   "source": [
    "Wpruned = W[[[i] for i,elt in enumerate(p>np.mean(p)) if elt] , p>np.mean(p)] #Awesome numpy array slicing!"
   ]
  },
  {
   "cell_type": "code",
   "execution_count": 35,
   "metadata": {
    "collapsed": false,
    "deletable": true,
    "editable": true
   },
   "outputs": [
    {
     "data": {
      "image/png": "[encoded data removed]",
      "text/plain": [
       "<matplotlib.figure.Figure at 0x67321d9f98>"
      ]
     },
     "metadata": {},
     "output_type": "display_data"
    }
   ],
   "source": [
    "plt.spy(Wpruned)\n",
    "plt.title('Adjacency Matrix W pruned');"
   ]
  },
  {
   "cell_type": "markdown",
   "metadata": {},
   "source": [
    "## This was done to practice API and Tweepy and gain insights into the real world social networks and their sparsity properties."
   ]
  }
 ],
 "metadata": {
  "kernelspec": {
   "display_name": "Python 3",
   "language": "python",
   "name": "python3"
  },
  "language_info": {
   "codemirror_mode": {
    "name": "ipython",
    "version": 3
   },
   "file_extension": ".py",
   "mimetype": "text/x-python",
   "name": "python",
   "nbconvert_exporter": "python",
   "pygments_lexer": "ipython3",
   "version": "3.5.3"
  }
 },
 "nbformat": 4,
 "nbformat_minor": 0
}
